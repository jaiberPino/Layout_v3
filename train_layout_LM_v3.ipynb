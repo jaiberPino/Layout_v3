{
  "nbformat": 4,
  "nbformat_minor": 0,
  "metadata": {
    "colab": {
      "provenance": []
    },
    "kernelspec": {
      "name": "python3",
      "display_name": "Python 3"
    },
    "language_info": {
      "name": "python"
    }
  },
  "cells": [
    {
      "cell_type": "markdown",
      "source": [
        "# Fine-tune LayoutLMv3 for token classification on LETTERS dataset"
      ],
      "metadata": {
        "id": "_Q9t3GY8Mla-"
      }
    },
    {
      "cell_type": "markdown",
      "source": [
        "## Set-up environment\n",
        "\n",
        "First, we install 🤗 Transformers, as well as 🤗 Datasets and Seqeval (the latter is useful for evaluation metrics such as F1 on sequence labeling tasks)."
      ],
      "metadata": {
        "id": "1ipUCMbOMwcF"
      }
    },
    {
      "cell_type": "code",
      "source": [
        "!pip install -q datasets seqeval transformers\n",
        "!pip install transformers accelerate"
      ],
      "metadata": {
        "id": "1ENmiV8JMu52"
      },
      "execution_count": null,
      "outputs": []
    },
    {
      "cell_type": "code",
      "execution_count": null,
      "metadata": {
        "id": "xK7HRB74MSqx"
      },
      "outputs": [],
      "source": [
        "from huggingface_hub import notebook_login\n",
        "notebook_login()"
      ]
    },
    {
      "cell_type": "code",
      "source": [
        "from google.colab import drive\n",
        "drive.mount('/content/drive/')"
      ],
      "metadata": {
        "id": "uXHPpg62M4Ps"
      },
      "execution_count": null,
      "outputs": []
    },
    {
      "cell_type": "markdown",
      "source": [
        "## Load dataset\n",
        "\n",
        "Next, we load a dataset from the 🤗 [hub](https://huggingface.co/datasets/nielsr/cord-layoutlmv3). This one is the [CORD](https://github.com/clovaai/cord) dataset, a collection of annotated receipts.  \n",
        "\n",
        "Loading this dataset can take 10 minutes. The generating train split takes a bit."
      ],
      "metadata": {
        "id": "JD7lSwozNA2t"
      }
    },
    {
      "cell_type": "markdown",
      "source": [
        "![image.png](data:image/png;base64,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)"
      ],
      "metadata": {
        "id": "eTj25VzhQJEu"
      }
    },
    {
      "cell_type": "code",
      "source": [
        "from datasets import load_dataset\n",
        "\n",
        "#dataset = load_dataset('/content/drive/MyDrive/data_cartas_layoutv3',data_dir='/content/drive/MyDrive/data_cartas_layoutv3') #letters\n",
        "dataset = load_dataset('/content/drive/MyDrive/data_registros_layoutv3',data_dir='/content/drive/MyDrive/data_registros_layoutv3') #registros\n",
        "#dataset = load_dataset('/content/drive/MyDrive/layout_v1_pres', data_dir='/content/drive/MyDrive/layout_v1_pres')\n",
        "#dataset = load_dataset('/content/drive/MyDrive/data_cedulas_layoutv3',data_dir='/content/drive/MyDrive/data_cedulas_layoutv3') #letters\n",
        "\n",
        "#dataset = load_dataset('data',data_dir='data')\n",
        "dataset"
      ],
      "metadata": {
        "id": "UuoTOjdfM6pU"
      },
      "execution_count": null,
      "outputs": []
    },
    {
      "cell_type": "markdown",
      "source": [
        "## Prepare dataset\n",
        "\n",
        "Next, we prepare the dataset for the model. This can be done very easily using `LayoutLMv3Processor`, which internally wraps a `LayoutLMv3FeatureExtractor` (for the image modality) and a `LayoutLMv3Tokenizer` (for the text modality) into one.\n",
        "\n",
        "Basically, the processor does the following internally:\n",
        "* the feature extractor is used to resize + normalize each document image into `pixel_values`\n",
        "* the tokenizer is used to turn the words, boxes and NER tags into token-level `input_ids`, `attention_mask` and `labels`.\n",
        "\n",
        "The processor simply returns a dictionary that contains all these keys."
      ],
      "metadata": {
        "id": "NYJiNkF4NL78"
      }
    },
    {
      "cell_type": "code",
      "source": [
        "from transformers import AutoProcessor\n",
        "# we'll use the Auto API here - it will load LayoutLMv3Processor behind the scenes,\n",
        "# based on the checkpoint we provide from the hub\n",
        "processor = AutoProcessor.from_pretrained(\"microsoft/layoutlmv3-base\", apply_ocr=False)"
      ],
      "metadata": {
        "id": "P1gAdz6xNElV"
      },
      "execution_count": null,
      "outputs": []
    },
    {
      "cell_type": "code",
      "source": [
        "from datasets.features import ClassLabel\n",
        "\n",
        "features = dataset[\"train\"].features\n",
        "column_names = dataset[\"train\"].column_names\n",
        "image_column_name = \"image_path\"\n",
        "text_column_name = \"words\"\n",
        "boxes_column_name = \"bboxes\"\n",
        "label_column_name = \"ner_tags\"\n",
        "\n",
        "# In the event the labels are not a `Sequence[ClassLabel]`, we will need to go through the dataset to get the\n",
        "# unique labels.\n",
        "def get_label_list(labels):\n",
        "    unique_labels = set()\n",
        "    for label in labels:\n",
        "        unique_labels = unique_labels | set(label)\n",
        "    label_list = list(unique_labels)\n",
        "    label_list.sort()\n",
        "    return label_list\n",
        "\n",
        "def unnormalize_box(bbox, width, height):\n",
        "     return [\n",
        "         int(width * (bbox[0] / 1000)),\n",
        "         int(height * (bbox[1] / 1000)),\n",
        "         int(width * (bbox[2] / 1000)),\n",
        "         int(height * (bbox[3] / 1000))\n",
        "     ]\n",
        "if isinstance(features[label_column_name].feature, ClassLabel):\n",
        "    label_list = features[label_column_name].feature.names\n",
        "    # No need to convert the labels since they are already ints.\n",
        "    id2label = {k: v for k,v in enumerate(label_list)}\n",
        "    label2id = {v: k for k,v in enumerate(label_list)}\n",
        "else:\n",
        "    label_list = get_label_list(dataset[\"train\"][label_column_name])\n",
        "    id2label = {k: v for k,v in enumerate(label_list)}\n",
        "    label2id = {v: k for k,v in enumerate(label_list)}\n",
        "num_labels = len(label_list)"
      ],
      "metadata": {
        "id": "14kAbwO7NPrF"
      },
      "execution_count": null,
      "outputs": []
    },
    {
      "cell_type": "markdown",
      "source": [
        "Next, we'll define a function which we can apply on the entire dataset.\n"
      ],
      "metadata": {
        "id": "M4FJrm0RNYkc"
      }
    },
    {
      "cell_type": "code",
      "source": [
        "from PIL import Image\n",
        "def prepare_examples(examples):\n",
        "  images=[]\n",
        "  for im in examples[image_column_name]:\n",
        "    print(\"pat\",im)\n",
        "    images.append(Image.open(im).convert(\"RGB\")) ##if you use an image path, this will need to be updated to read the image in\n",
        "\n",
        "  words = examples[text_column_name]\n",
        "  boxes = examples[boxes_column_name]\n",
        "  word_labels = examples[label_column_name]\n",
        "\n",
        "  encoding = processor(images, words, boxes=boxes, word_labels=word_labels,\n",
        "                       truncation=True, padding=\"max_length\")\n",
        "\n",
        "  return encoding"
      ],
      "metadata": {
        "id": "RAZxhUu7NZNE"
      },
      "execution_count": null,
      "outputs": []
    },
    {
      "cell_type": "code",
      "source": [
        "from datasets import Features, Sequence, ClassLabel, Value, Array2D, Array3D\n",
        "\n",
        "# we need to define custom features for `set_format` (used later on) to work properly\n",
        "features = Features({\n",
        "    'pixel_values': Array3D(dtype=\"float32\", shape=(3, 224, 224)),\n",
        "    'input_ids': Sequence(feature=Value(dtype='int64')),\n",
        "    'attention_mask': Sequence(Value(dtype='int64')),\n",
        "    'bbox': Array2D(dtype=\"int64\", shape=(512, 4)),\n",
        "    'labels': Sequence(feature=Value(dtype='int64')),\n",
        "})"
      ],
      "metadata": {
        "id": "lKQLuOr8NcHV"
      },
      "execution_count": null,
      "outputs": []
    },
    {
      "cell_type": "code",
      "source": [
        "##I used this code to subset the data for building learning curves,\n",
        "# you will probably ignore this and train on all the data\n",
        "train_sample = dataset[\"train\"].shuffle(seed=42)\n",
        "test_sample = dataset[\"test\"].shuffle(seed=42)\n",
        "#train_sample = dataset[\"train\"].select(range(300))\n",
        "\n",
        "\n",
        "train_dataset = train_sample.map(\n",
        "    prepare_examples,\n",
        "    batched=True,\n",
        "    remove_columns=column_names,\n",
        "    features=features,\n",
        ")\n",
        "\n",
        "eval_dataset = dataset[\"test\"].map(\n",
        "    prepare_examples,\n",
        "    batched=True,\n",
        "    remove_columns=column_names,\n",
        "    features=features,\n",
        ")"
      ],
      "metadata": {
        "id": "juYr9UfjNeVF"
      },
      "execution_count": null,
      "outputs": []
    },
    {
      "cell_type": "code",
      "source": [
        "print(train_dataset)\n",
        "print(eval_dataset)\n",
        "example = train_dataset[0]\n",
        "processor.tokenizer.decode(example[\"input_ids\"])"
      ],
      "metadata": {
        "id": "P4pzMW4tNjGN"
      },
      "execution_count": null,
      "outputs": []
    },
    {
      "cell_type": "markdown",
      "source": [
        "Next, we set the format to PyTorch."
      ],
      "metadata": {
        "id": "r4Rdz3u4NtNf"
      }
    },
    {
      "cell_type": "code",
      "source": [
        "train_dataset.set_format(\"torch\")"
      ],
      "metadata": {
        "id": "UtWGJrseNt_V"
      },
      "execution_count": null,
      "outputs": []
    },
    {
      "cell_type": "code",
      "source": [
        "import torch\n",
        "\n",
        "example = train_dataset[0]\n",
        "for k,v in example.items():\n",
        "    print(k,v.shape)"
      ],
      "metadata": {
        "id": "hD7LKlL2NwMs"
      },
      "execution_count": null,
      "outputs": []
    },
    {
      "cell_type": "markdown",
      "source": [
        "## Define metrics\n",
        "\n",
        "Next, we define a `compute_metrics` function, which is used by the Trainer to ... compute metrics.\n",
        "\n",
        "This function should take a named tuple as input, and return a dictionary as output as stated in the [docs](https://huggingface.co/docs/transformers/main_classes/trainer)."
      ],
      "metadata": {
        "id": "Y-yeExzhN39U"
      }
    },
    {
      "cell_type": "code",
      "source": [
        "from datasets import load_metric\n",
        "\n",
        "metric = load_metric(\"seqeval\")"
      ],
      "metadata": {
        "id": "hcoQm_7PN0Q9"
      },
      "execution_count": null,
      "outputs": []
    },
    {
      "cell_type": "code",
      "source": [
        "import numpy as np\n",
        "\n",
        "return_entity_level_metrics = False\n",
        "\n",
        "def compute_metrics(p):\n",
        "    predictions, labels = p\n",
        "    predictions = np.argmax(predictions, axis=2)\n",
        "\n",
        "    # Remove ignored index (special tokens)\n",
        "    true_predictions = [\n",
        "        [label_list[p] for (p, l) in zip(prediction, label) if l != -100]\n",
        "        for prediction, label in zip(predictions, labels)\n",
        "    ]\n",
        "    true_labels = [\n",
        "        [label_list[l] for (p, l) in zip(prediction, label) if l != -100]\n",
        "        for prediction, label in zip(predictions, labels)\n",
        "    ]\n",
        "\n",
        "    results = metric.compute(predictions=true_predictions, references=true_labels)\n",
        "    if return_entity_level_metrics:\n",
        "        # Unpack nested dictionaries\n",
        "        final_results = {}\n",
        "        for key, value in results.items():\n",
        "            if isinstance(value, dict):\n",
        "                for n, v in value.items():\n",
        "                    final_results[f\"{key}_{n}\"] = v\n",
        "            else:\n",
        "                final_results[key] = value\n",
        "        return final_results\n",
        "    else:\n",
        "        return {\n",
        "            \"precision\": results[\"overall_precision\"],\n",
        "            \"recall\": results[\"overall_recall\"],\n",
        "            \"f1\": results[\"overall_f1\"],\n",
        "            \"accuracy\": results[\"overall_accuracy\"],\n",
        "        }"
      ],
      "metadata": {
        "id": "YQ-HN0ijN8aF"
      },
      "execution_count": null,
      "outputs": []
    },
    {
      "cell_type": "markdown",
      "source": [
        "## Define the model\n",
        "\n",
        "Next we define the model: this is a Transformer encoder with pre-trained weights, and a randomly initialized head on top for token classification."
      ],
      "metadata": {
        "id": "KirQs_1KN_yk"
      }
    },
    {
      "cell_type": "code",
      "source": [
        "from transformers import LayoutLMv3ForTokenClassification\n",
        "\n",
        "model = LayoutLMv3ForTokenClassification.from_pretrained(\"microsoft/layoutlmv3-base\",\n",
        "                                                         id2label=id2label,\n",
        "                                                         label2id=label2id)"
      ],
      "metadata": {
        "id": "ZrdAB9wkOCrO"
      },
      "execution_count": null,
      "outputs": []
    },
    {
      "cell_type": "markdown",
      "source": [
        "## Define TrainingArguments + Trainer\n",
        "\n",
        "Next we define the `TrainingArguments`, which define all hyperparameters related to training. Note that there is a huge amount of parameters to tweak, check the [docs](https://huggingface.co/docs/transformers/main_classes/trainer#transformers.TrainingArguments) for more info.\n",
        "The training arguments I set here:\n",
        "- max steps for how long I thought it would take to train - you may need more steps\n",
        "- batch_size was tweaked based on GPU memory\n",
        "- push to hub was set to save my model to the hugging face hub\n",
        "- evaluation strategy, steps was set to periodically evaluate the model\n",
        "- metric for best model was to save the best checkpoint model based on accuracy"
      ],
      "metadata": {
        "id": "hQoppE-VOJll"
      }
    },
    {
      "cell_type": "code",
      "source": [
        "from transformers import TrainingArguments, Trainer\n",
        "\n",
        "training_args = TrainingArguments(output_dir=\"layoutlmv3-finetuned-registros_v2\",\n",
        "                                  max_steps=1000,#2500\n",
        "                                  per_device_train_batch_size=4,\n",
        "                                  per_device_eval_batch_size=4,\n",
        "                                  push_to_hub=True,  # after training, we'd like to push our model to the hub\n",
        "                                  push_to_hub_model_id=f\"layoutlmv3-finetuned-registros_v2\",\n",
        "                                  learning_rate=0.5e-5, #-5 original\n",
        "                                  evaluation_strategy=\"steps\",\n",
        "                                  eval_steps=250,\n",
        "                                  load_best_model_at_end=True,\n",
        "                                  metric_for_best_model=\"accuracy\")"
      ],
      "metadata": {
        "id": "hpwBD-J1OFck"
      },
      "execution_count": null,
      "outputs": []
    },
    {
      "cell_type": "markdown",
      "source": [
        "We can now instantiate a Trainer, with the model and args defined above. We also provide our datasets, as well as a \"default data collator\" - which will batch the examples using `torch.stack`. We also provide our `compute_metrics` function defined above."
      ],
      "metadata": {
        "id": "1q-Wa8sxOR4M"
      }
    },
    {
      "cell_type": "code",
      "source": [
        "from transformers.data.data_collator import default_data_collator\n",
        "\n",
        "# Initialize our Trainer\n",
        "trainer = Trainer(\n",
        "    model=model,\n",
        "    args=training_args,\n",
        "    train_dataset=train_dataset,\n",
        "    eval_dataset=eval_dataset,\n",
        "    tokenizer=processor,\n",
        "    data_collator=default_data_collator,\n",
        "    compute_metrics=compute_metrics,\n",
        ")"
      ],
      "metadata": {
        "id": "95rTmiALOM_M"
      },
      "execution_count": null,
      "outputs": []
    },
    {
      "cell_type": "markdown",
      "source": [
        "## Train the model\n",
        "\n",
        "Let's train!"
      ],
      "metadata": {
        "id": "9XGhSAWwOYnG"
      }
    },
    {
      "cell_type": "code",
      "source": [
        "trainer.train()"
      ],
      "metadata": {
        "id": "2IE1PME4OVE0"
      },
      "execution_count": null,
      "outputs": []
    },
    {
      "cell_type": "markdown",
      "source": [
        "Evaluación del modelo"
      ],
      "metadata": {
        "id": "xvxsBCGYO6Gc"
      }
    },
    {
      "cell_type": "code",
      "source": [
        "trainer.evaluate()"
      ],
      "metadata": {
        "id": "daFmImLJO--1"
      },
      "execution_count": null,
      "outputs": []
    },
    {
      "cell_type": "markdown",
      "source": [
        "Para guardar el modelo en mi cuenta de hugging face"
      ],
      "metadata": {
        "id": "T9NWNUDSOngl"
      }
    },
    {
      "cell_type": "code",
      "source": [
        "trainer.push_to_hub(\"layoutlmv3-finetuned-letters_v3\")"
      ],
      "metadata": {
        "id": "h396QucPOcY1"
      },
      "execution_count": null,
      "outputs": []
    },
    {
      "cell_type": "markdown",
      "source": [
        "Para guardarlo en drive"
      ],
      "metadata": {
        "id": "DmXgZ62aOx-l"
      }
    },
    {
      "cell_type": "code",
      "source": [
        "#guardo el modelo\n",
        "model_dir = '/content/drive/My Drive/models/'\n",
        "model.save_pretrained(model_dir + 'layoutv3_registros_v3')"
      ],
      "metadata": {
        "id": "Y-bBTd70Oxle"
      },
      "execution_count": null,
      "outputs": []
    },
    {
      "cell_type": "markdown",
      "source": [
        "# Inference #\n",
        "\n",
        "This section loads the model from the hub and does not assume we have just trained the model. This is a realistic scenario for me, as Google Colab often makes me use multiple sessions."
      ],
      "metadata": {
        "id": "Dsf_93pzPFJG"
      }
    },
    {
      "cell_type": "code",
      "source": [
        "#model = AutoModelForTokenClassification.from_pretrained(\"/content/modelo)\n",
        "from transformers import LayoutLMv3Tokenizer, LayoutLMForTokenClassification,AutoModelForTokenClassification, AutoProcessor,LayoutLMTokenizer\n",
        "import torch\n",
        "\n",
        "\n",
        "model_dir = '/content/drive/My Drive/models/'\n",
        "#tokenizer = LayoutLMTokenizer.from_pretrained(\"microsoft/layoutlm-base-uncased\")\n",
        "tokenizer = LayoutLMv3Tokenizer.from_pretrained(\"microsoft/layoutlmv3-base\")\n",
        "device = torch.device(\"cuda\" if torch.cuda.is_available() else \"cpu\")\n",
        "#model = LayoutLMForTokenClassification.from_pretrained(model_dir + 'layoutv3_letter_30e_gt')\n",
        "#model = AutoModelForTokenClassification.from_pretrained(model_dir + \"layoutv3_cedulas_v3\")# )\n",
        "model = AutoModelForTokenClassification.from_pretrained(model_dir + \"layoutv3_letters_v4\")\n",
        "model = AutoModelForTokenClassification.from_pretrained(model_dir + \"layoutv3_registros_v3\")\n",
        "\n",
        "model.to(device)"
      ],
      "metadata": {
        "id": "nL7cqEdnPGCt"
      },
      "execution_count": null,
      "outputs": []
    },
    {
      "cell_type": "markdown",
      "source": [
        "Constructs a LayoutLMv3 processor which combines a LayoutLMv3 image processor and a LayoutLMv3 tokenizer into a\n",
        "single processor.\n",
        "\n",
        "[LayoutLMv3Processor] offers all the functionalities you need to prepare data for the model.\n",
        "\n",
        "It first uses [LayoutLMv3ImageProcessor] to resize and normalize document images, and optionally applies OCR to\n",
        "get words and normalized bounding boxes. These are then provided to [LayoutLMv3Tokenizer] or\n",
        "[LayoutLMv3TokenizerFast], which turns the words and bounding boxes into token-level input_ids,\n",
        "attention_mask, token_type_ids, bbox. Optionally, one can provide integer word_labels, which are turned\n",
        "into token-level labels for token classification tasks (such as FUNSD, CORD).\n",
        "\n",
        "Args:\n",
        "    image_processor (LayoutLMv3ImageProcessor):\n",
        "        An instance of [LayoutLMv3ImageProcessor]. The image processor is a required input.\n",
        "    tokenizer (LayoutLMv3Tokenizer or LayoutLMv3TokenizerFast):\n",
        "        An instance of [LayoutLMv3Tokenizer] or [LayoutLMv3TokenizerFast"
      ],
      "metadata": {
        "id": "-76QJ-ZRPYH9"
      }
    },
    {
      "cell_type": "code",
      "source": [
        "import json\n",
        "#from transformers import LayoutLMv3Processor\n",
        "from datasets.features import ClassLabel\n",
        "from PIL import Image\n",
        "import time\n",
        "\n",
        "def get_label_list(labels):\n",
        "    unique_labels = set()\n",
        "    for label in labels:\n",
        "        unique_labels = unique_labels | set(label)\n",
        "    label_list = list(unique_labels)\n",
        "    label_list.sort()\n",
        "    return label_list\n",
        "\n",
        "def unnormalize_box(bbox, width, height):\n",
        "     return [\n",
        "         width * (bbox[0] / 1000),\n",
        "         height * (bbox[1] / 1000),\n",
        "         width * (bbox[2] / 1000),\n",
        "         height * (bbox[3] / 1000),\n",
        "     ]\n",
        "def bbox_normalize(box, width, length):\n",
        "    return (\n",
        "        max(min(int(1000 * (box[0] / width)), 1000), 0),\n",
        "        max(min(int(1000 * (box[1] / length)), 1000), 0),\n",
        "        max(min(int(1000 * (box[2] / width)), 1000), 0),\n",
        "        max(min(int(1000 * (box[3] / length)), 1000), 0)\n",
        "    )\n",
        "\n",
        "def get_features(json_data, lab_map):\n",
        "    tx = []\n",
        "    box2 = []\n",
        "    box4 = []\n",
        "    ind=[]\n",
        "    w = json_data['pages'][0]['width']\n",
        "    h = json_data['pages'][0]['height']\n",
        "    ner_tags =[]\n",
        "    try:\n",
        "        for wd in json_data['pages'][0]['blocks']:\n",
        "            for t in wd['paragraphs']:\n",
        "                for p in t['words']:\n",
        "                    tx1 = ''\n",
        "                    for s in p['symbols']:\n",
        "                        tx1 = tx1+s['text']\n",
        "                    tx.append(tx1)\n",
        "                    b = p['boundingBox']['vertices']\n",
        "                    ind.append(p['index'])\n",
        "                    box1 = [b[0]['x'], b[1]['y'], b[2]['x'], b[3]['y']]\n",
        "                    bx = bbox_normalize(box1, w, h)\n",
        "                    box2.append(bx)\n",
        "                    box4.append(box1)\n",
        "    except KeyError:\n",
        "        for wd in json_data['pages'][0]['blocks'][0]['paragraphs'][0]['words']:\n",
        "            tx.append(wd['text'])\n",
        "            box1 = [int(wd['boundingBox']['vertices'][0]['x']), int(wd['boundingBox']['vertices'][1]['y']), int(wd['boundingBox']['vertices'][2]['x']), int(wd['boundingBox']['vertices'][3]['y']) ]\n",
        "            bx = bbox_normalize(box1, w, h)\n",
        "            box2.append(bx)\n",
        "            box4.append(box1)\n",
        "    for i in range(0, len(tx), 1):\n",
        "        ner_tags.append(lab_map['O'])\n",
        "    return tx, box2, ner_tags, box4, ind\n",
        "\n",
        "processor = AutoProcessor.from_pretrained(\"microsoft/layoutlmv3-base\", apply_ocr=False)\n",
        "print(dataset['test']['image_path'])\n",
        "example = dataset[\"test\"][29]#---------------------------------------------------------------------------------------------\n",
        "image = Image.open(example['image_path'])\n",
        "label_map2 = {'B-PVNR_DATE': 0, 'B-PVNR_ENT': 1, 'B-PVNR_IDE': 2, 'B-PVNR_IDP': 3, 'B-PVNR_IDTP': 4, 'B-PVNR_PER': 5, 'B-PVNR_WIA': 6, 'B-PVNR_WIC': 7, 'B-PVNR_WIT': 8, 'I-PVNR_DATE': 9, 'I-PVNR_ENT': 10, 'I-PVNR_IDE': 11, 'I-PVNR_IDTP': 12, 'I-PVNR_PER': 13, 'I-PVNR_WIA': 14, 'I-PVNR_WIC': 15, 'I-PVNR_WIT': 16, 'O': 17}\n",
        "f = open('/content/drive/MyDrive/data_cartas_layoutv3/data/test/annotations/zz_1.json')\n",
        "#f = open('/content/1 (5).json')\n",
        "json_data = json.load(f)\n",
        "f.close()\n",
        "\n",
        "tx, box3, nt , box6, ind = get_features(json_data, label_map2)\n",
        "encoded_inputs = processor(image, example['words'], boxes=example['bboxes'], word_labels=example['ner_tags'],\n",
        "                           padding=\"max_length\", truncation=True, return_tensors=\"pt\")\n",
        "#encoded_inputs = processor(image, tx, boxes=box3, word_labels=nt,\n",
        " #                          padding=\"max_length\", truncation=True, return_tensors=\"pt\")\n",
        "token_boxes = encoded_inputs.bbox.squeeze().tolist()\n",
        "box_ant= [0,0,0,0]\n",
        "labels = []\n",
        "for bx in token_boxes:\n",
        "  if bx != [0,0,0,0] and bx != box_ant:\n",
        "    labels.append(27)\n",
        "    box_ant=bx\n",
        "  else:\n",
        "    labels.append(-100)\n",
        "    box_ant=bx\n",
        "for k,v in encoded_inputs.items():\n",
        "  encoded_inputs[k] = v.to(device)\n",
        "labels = encoded_inputs.pop('labels').squeeze().tolist() #los labels los haría así, pero por el problema lo haré a mano\n",
        "\n",
        "st = time.time()\n",
        "outputs = model(**encoded_inputs)\n",
        "fin=time.time()\n",
        "print(\"EXECUTION TIME:\",fin-st)\n",
        "features = dataset[\"train\"].features\n",
        "column_names = dataset[\"train\"].column_names\n",
        "image_column_name = \"image\"\n",
        "text_column_name = \"words\"\n",
        "boxes_column_name = \"bboxes\"\n",
        "label_column_name = \"ner_tags\"\n",
        "\n",
        "if isinstance(features[label_column_name].feature, ClassLabel):\n",
        "    label_list = features[label_column_name].feature.names\n",
        "    # No need to convert the labels since they are already ints.\n",
        "    id2label = {k: v for k,v in enumerate(label_list)}\n",
        "    label2id = {v: k for k,v in enumerate(label_list)}\n",
        "else:\n",
        "    label_list = get_label_list(dataset[\"train\"][label_column_name])\n",
        "    id2label = {k: v for k,v in enumerate(label_list)}\n",
        "    label2id = {v: k for k,v in enumerate(label_list)}\n",
        "num_labels = len(label_list)\n",
        "\n",
        "softmax = outputs.logits.softmax(-1).squeeze()#.argmax(1).tolist()\n",
        "probabilities = torch.max(softmax, 1)[0].tolist()\n",
        "predictions = outputs.logits.argmax(-1).squeeze().tolist()\n",
        "\n",
        "cj=[]\n",
        "h=0\n",
        "for i in range(0, len(encoded_inputs['input_ids'][0]),1):\n",
        "  decoded = tokenizer.decode(encoded_inputs['input_ids'][0][i])\n",
        "  tb=token_boxes[i]\n",
        "  #print(decoded,tb,predictions[i],labels[i])\n",
        "  if tb not in cj and tb != [0,0,0,0]:\n",
        "    cj.append(tb)\n",
        "  if labels[i] != -100:\n",
        "    h=h+1\n",
        "\n",
        "print(\"W\",len(cj), h)\n",
        "print(cj)\n",
        "width, height = image.size\n",
        "\n",
        "true_predictions = [id2label[prediction] for prediction, label in zip(predictions, labels) if label != -100]\n",
        "true_labels = [id2label[label] for prediction, label in zip(predictions, labels) if label != -100]\n",
        "true_boxes = [unnormalize_box(box, width, height) for box, label in zip(token_boxes, labels) if label != -100]\n",
        "\n",
        "print(predictions)\n",
        "print(true_boxes)\n",
        "#print(len(true_predictions), len(true_labels), len(true_boxes), len(tx))\n",
        "t=0\n",
        "coor_box=[]\n",
        "cr =[1,1,1,1]\n",
        "scores=[]\n",
        "scr = []\n",
        "\"\"\"\n",
        "for i in range(0,len(token_boxes),1):\n",
        "  if token_boxes[i] != [0,0,0,0]:\n",
        "    if cr != token_boxes[i]:\n",
        "      if len(scr) != 0:\n",
        "        score=sum(scr)/len(scr)\n",
        "        scores.append(score)\n",
        "      scr=[]\n",
        "      scr.append(probabilities[i])\n",
        "    else:\n",
        "      scr.append(probabilities[i])\n",
        "  cr = token_boxes[i]\n",
        "for n in range(len(scores), len(example['words']), 1):\n",
        "  score=sum(scr)/len(scr)\n",
        "  scores.append(score)\n",
        "\"\"\"\n",
        "#print(coor_box)\n",
        "#print(scores)\n",
        "#print(len(example['bboxes']), len(scores), len(true_boxes), len(true_predictions), len(scores))\n",
        "#print(example['words'])\n",
        "#word_ent = create_word_entity(example['words'], example['bboxes'], true_predictions, width, height, scores )"
      ],
      "metadata": {
        "id": "uji-aUyQPIvt"
      },
      "execution_count": null,
      "outputs": []
    },
    {
      "cell_type": "markdown",
      "source": [
        "Dibujar las predicciones"
      ],
      "metadata": {
        "id": "-IaxPtmCPksk"
      }
    },
    {
      "cell_type": "code",
      "source": [
        "from PIL import ImageDraw\n",
        "from PIL import Image, ImageDraw, ImageFont\n",
        "import os\n",
        "import cv2\n",
        "draw = ImageDraw.Draw(image)\n",
        "font_path = os.path.join(cv2.__path__[0],'qt','fonts','DejaVuSans.ttf')\n",
        "font = ImageFont.truetype(font_path, size=12)\n",
        "#font = ImageFont.load_default()\n",
        "\n",
        "def iob_to_label(label):\n",
        "    label = label\n",
        "    if not label:\n",
        "      return 'O'\n",
        "    return label\n",
        "\"\"\"\n",
        "#CEDULAS\n",
        "label2color = {'O':'black', 'B-ID_TYPE':'green', 'I-ID_TYPE':'green', 'B-ID_BLOOD_TYPE':'blue', 'I-ID_BLOOD_TYPE':'blue', 'B-INEMEX_AGE':'orange','B-INEMEX_CURP':'orange', 'B-INEMEX_EMI':'violet','B-INEMEX_HOME':'violet','I-INEMEX_HOME':'violet','B-INEMEX_INV':'blue','B-INEMEX_KEY':'red',\n",
        "               'B-INEMEX_REGY':'red', 'B-ID_EXP_CITY':'brown', 'I-ID_EXP_CITY':'brown',\n",
        "               'B-ID_BORN_CITY':'violet', 'I-ID_BORN_CITY':'violet', 'B-ID_BORN_DATE':'purple', 'I-ID_BORN_DATE':'purple', 'B-ID_EXPIRATION_DATE':'gray', 'I-ID_EXPIRATION_DATE':'gray',  'B-ID_HEIGHT':'yellow', 'B-ID_LAST_NAME':'red', 'I-ID_LAST_NAME':'red', 'B-ID_NAME':'green', 'I-ID_NAME':'green',\n",
        "               'B-ID_NATIONALITY':'blue', 'B-ID_NUM':'gray', 'B-ID_SEX':'brown','B-ID_EXP_DATE':'red','I-ID_EXP_DATE':'red', 'B-PASSP_NUM':'brown','I-INEMEX_REGY':'blue','B-INEMEX_VAL':'pink', 'I-INEMEX_VAL':'pink'}\n",
        "\n",
        "#LETTERS\n",
        "label2color = {'O':'black', 'B-PVNR_DATE':'purple', 'I-PVNR_DATE':'purple', 'B-PVNR_ENT':'orange','I-PVNR_ENT':'orange', 'B-PVNR_IDE':'violet','I-PVNR_IDE':'violet','B-PVNR_IDP':'blue','I-PVNR_IDP':'blue','B-PVNR_PER':'red',\n",
        "               'I-PVNR_PER':'red', 'B-PVNR_WIC':'green',  'I-PVNR_WIC':'green', 'B-PVNR_WIA':'yellow', 'I-PVNR_WIA':'yellow', 'B-PASSP_NUM':'brown', 'B-PVNR_IDTP':'green', 'I-PVNR_IDTP':'green', 'B-PVNR_WIT':'gray', 'I-PVNR_WIT':'gray'}\n",
        "#REGISTROD DE NACIMIENTO\n",
        "\"\"\"\n",
        "label2color = {'O':'black', 'B-REG_CIV_BIRTHDATE':'green', 'I-REG_CIV_BIRTHDATE':'green','B-REG_CIV_CLIN':'blue','I-REG_CIV_CLIN':'blue', 'B-REG_CIV_BLOOD':'orange','B-REG_CIV_COUNTRYBD':'orange', 'B-REG_CIV_CITYBD':'violet','I-REG_CIV_CITYBD':'violet','B-REG_CIV_CLIN':'blue','B-REG_CIV_DAD_LASTNAME':'blue','B-REG_CIV_DADLUGEXP':'red',\n",
        "               'B-REG_CIV_DADNAC':'red', 'B-REG_CIV_DADNAME':'green', 'B-REG_CIV_DADNUMDOC':'green', 'B-REG_CIV_DADOC':'green', 'B-REG_CIV_DEPBD':'green', 'B-REG_CIV_GENDER':'brown', 'B-REG_CIV_LASTNAME1':'brown', 'B-REG_CIV_LASTNAME2':'gray', 'B-REG_CIV_MAMDOC':'gray','B-REG_CIV_MAM_LASTNAME':'blue', 'B-REG_CIV_MAMLUGEXP':'red',\n",
        "               'B-REG_CIV_MAMNAC':'red','B-REG_CIV_MAMNAME':'orange','B-REG_CIV_MAMNUMDOC':'violet','B-REG_CIV_NAME':'cyan','B-REG_CIV_NUIP':'gray','B-REG_CIV_REGDATE':'blue','B-REG_CIV_RH':'orange','B-REG_CIV_SERIAL':'red',\n",
        "               'I-REG_CIV_DAD_LASTNAME':'blue','I-REG_CIV_DADLUGEXP':'red', 'I-REG_CIV_DADNAME':'green', 'I-REG_CIV_DADOC':'green', 'I-REG_CIV_DEPBD':'green','I-REG_CIV_MAMDOC':'gray', 'I-REG_CIV_MAM_LASTNAME':'blue', 'I-REG_CIV_MAMLUGEXP':'red', 'I-REG_CIV_MAMNAME':'orange', 'I-REG_CIV_NAME':'cyan', 'I-REG_CIV_REGDATE':'blue'}\n",
        "\n",
        "for prediction, box in zip(true_predictions, true_boxes):\n",
        "    predicted_label = iob_to_label(prediction).lower()\n",
        "    draw.rectangle(box, outline=label2color[predicted_label.upper()])\n",
        "    #draw.rectangle(box)\n",
        "    #draw.text((box[0] + 5, box[1] - 10), fill='black', text=predicted_label, font=font)\n",
        "    draw.text((box[0] + 10, box[1] - 10), text=predicted_label, fill=label2color[predicted_label.upper()], font=font)\n",
        "\n",
        "image"
      ],
      "metadata": {
        "id": "GbKX_wDDPnGN"
      },
      "execution_count": null,
      "outputs": []
    }
  ]
}